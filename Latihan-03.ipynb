{
 "cells": [
  {
   "cell_type": "code",
   "execution_count": 10,
   "metadata": {},
   "outputs": [
    {
     "name": "stdout",
     "output_type": "stream",
     "text": [
      "hasil dari 5 + 45 = 50\n"
     ]
    }
   ],
   "source": [
    "angka1 = int(input(\"Masukkan angka pertama\"))\n",
    "angka2 = int(input(\"Masukkan angka kedua\"))\n",
    "operasi = angka1+angka2\n",
    "print(\"hasil dari \"+str(angka1)+\" + \"+str(angka2)+\" = \"+str(operasi))"
   ]
  },
  {
   "cell_type": "code",
   "execution_count": 39,
   "metadata": {},
   "outputs": [
    {
     "name": "stdout",
     "output_type": "stream",
     "text": [
      "13\n"
     ]
    }
   ],
   "source": [
    "a = 10\n",
    "a += int(input(\"masukkan angka\"))\n",
    "print(a)"
   ]
  },
  {
   "cell_type": "code",
   "execution_count": 57,
   "metadata": {},
   "outputs": [
    {
     "name": "stdout",
     "output_type": "stream",
     "text": [
      "Hasil dari 2 + 1 =  2\n"
     ]
    }
   ],
   "source": [
    "a = int(input(\"Masukkan angka\"))\n",
    "b = a\n",
    "a += b\n",
    "\n",
    "print(\"Hasil dari \"+str(a)+\" + \"+str(b)+\" = \", a)"
   ]
  },
  {
   "cell_type": "code",
   "execution_count": 51,
   "metadata": {},
   "outputs": [
    {
     "name": "stdout",
     "output_type": "stream",
     "text": [
      "data a =  False\n",
      "data c =  True\n"
     ]
    }
   ],
   "source": [
    "a = False\n",
    "c = not a\n",
    "\n",
    "print(\"data a = \", a)\n",
    "print(\"data c = \", c)"
   ]
  },
  {
   "cell_type": "code",
   "execution_count": 62,
   "metadata": {},
   "outputs": [
    {
     "name": "stdout",
     "output_type": "stream",
     "text": [
      "True\n"
     ]
    }
   ],
   "source": [
    "x = 5\n",
    "print(not(x<5))"
   ]
  },
  {
   "cell_type": "code",
   "execution_count": 70,
   "metadata": {},
   "outputs": [
    {
     "name": "stdout",
     "output_type": "stream",
     "text": [
      "Huruf 'c' ada di variabel perusahaan? True\n"
     ]
    }
   ],
   "source": [
    "perusahaan = 'McKinsey'\n",
    "empat_besar = ['Arsenal', 'City', 'MU', 'Tottenham']\n",
    "mahasiswa = {\n",
    "  'nama': 'POSI',\n",
    "  'tahun': '2020'\n",
    "}\n",
    "\n",
    "print(\n",
    "  \"Huruf 'c' ada di variabel perusahaan?\",\n",
    "  'c' in perusahaan\n",
    ")\n"
   ]
  },
  {
   "cell_type": "code",
   "execution_count": 82,
   "metadata": {},
   "outputs": [
    {
     "name": "stdout",
     "output_type": "stream",
     "text": [
      "Halo Semua\n",
      "Halo\n",
      "Semua\n"
     ]
    }
   ],
   "source": [
    "str1 = \"Halo\"\n",
    "str2 = \"Semua\"\n",
    "hasil = str1+ \" \" +str2\n",
    "hasil2 = str1+\"\\n\"+str2\n",
    "\n",
    "print(hasil)\n",
    "print(hasil2)"
   ]
  },
  {
   "cell_type": "code",
   "execution_count": 85,
   "metadata": {},
   "outputs": [
    {
     "name": "stdout",
     "output_type": "stream",
     "text": [
      "Panjang string dari teks tersebut adalah 25\n"
     ]
    }
   ],
   "source": [
    "nama_lengkap = \"Daniel Mulasatria Damanik\"\n",
    "print(\"Panjang string dari teks tersebut adalah\", len(nama_lengkap))"
   ]
  },
  {
   "cell_type": "code",
   "execution_count": 88,
   "metadata": {},
   "outputs": [
    {
     "name": "stdout",
     "output_type": "stream",
     "text": [
      "Hoea\n"
     ]
    }
   ],
   "source": [
    "teks = \"Halo Semua\"\n",
    "\n",
    "new_teks = teks[::3]\n",
    "print(new_teks)"
   ]
  },
  {
   "cell_type": "code",
   "execution_count": 98,
   "metadata": {},
   "outputs": [
    {
     "name": "stdout",
     "output_type": "stream",
     "text": [
      "huruf pada kalimat ini akan hilang\n"
     ]
    }
   ],
   "source": [
    "print(\"hurufT\\b pada kalimat ini akan hilang\")"
   ]
  },
  {
   "cell_type": "code",
   "execution_count": 97,
   "metadata": {},
   "outputs": [
    {
     "name": "stdout",
     "output_type": "stream",
     "text": [
      "Ini adalah kalimat kedua. \n"
     ]
    }
   ],
   "source": [
    "print(\"Ini adalah kalimat pertama\\rIni adalah kalimat kedua. \")"
   ]
  }
 ],
 "metadata": {
  "kernelspec": {
   "display_name": "Python 3",
   "language": "python",
   "name": "python3"
  },
  "language_info": {
   "codemirror_mode": {
    "name": "ipython",
    "version": 3
   },
   "file_extension": ".py",
   "mimetype": "text/x-python",
   "name": "python",
   "nbconvert_exporter": "python",
   "pygments_lexer": "ipython3",
   "version": "3.10.7"
  },
  "orig_nbformat": 4
 },
 "nbformat": 4,
 "nbformat_minor": 2
}
