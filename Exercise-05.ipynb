{
 "cells": [
  {
   "attachments": {},
   "cell_type": "markdown",
   "metadata": {},
   "source": [
    "1. Buatlah program untuk menampilkan total penjumlahan bilangan ganjil dan total penjumlahan bilangan genap dengan input dari user berupa range (batas atas dan batas bawah)!"
   ]
  },
  {
   "cell_type": "code",
   "execution_count": 14,
   "metadata": {},
   "outputs": [
    {
     "name": "stdout",
     "output_type": "stream",
     "text": [
      "Hasil penjumlahan pada range 1 - 7\n",
      "Total penjumlahan ganjil = 16\n",
      "Total penjumlahan genap = 12\n"
     ]
    }
   ],
   "source": [
    "# Kerjakan nomor 1 di sini\n",
    "\n",
    "bawah = int(input(\"Masukkan batas bawah\"))\n",
    "atas = int(input(\"Masukkan batas atas\"))\n",
    "\n",
    "total1 = 0\n",
    "total2 = 0\n",
    "\n",
    "for nilai in range(bawah, atas+1, 2):\n",
    "    total1 = total1 + nilai\n",
    "\n",
    "for nilai in range(bawah+1, atas+1, 2):\n",
    "    total2 = total2 + nilai \n",
    "\n",
    "if bawah % 2 == 0:\n",
    "    print(\"Hasil penjumlahan pada range\", bawah, \"-\", atas)\n",
    "    print(\"Total penjumlahan ganjil =\", total2)\n",
    "    print(\"Total penjumlahan genap =\", total1)\n",
    "else:\n",
    "    print(\"Hasil penjumlahan pada range\", bawah, \"-\", atas)\n",
    "    print(\"Total penjumlahan ganjil =\", total1)\n",
    "    print(\"Total penjumlahan genap =\", total2)\n",
    "\n",
    "    "
   ]
  },
  {
   "attachments": {},
   "cell_type": "markdown",
   "metadata": {},
   "source": [
    "2. Buatlah sebuah list yang berisi daftar makanan khas daerah (minimal 10 makanan termasuk makanan khas Solo). Kemudian buat program pencarian menggunakan pengulangan. Apabila nama makanan yang user inputkan sudah sesuai dengan isi list maka program akan berhenti dan menampilkan output \"(makanan yang diinput user) adalah makanan khas daerah\"."
   ]
  },
  {
   "cell_type": "code",
   "execution_count": 2,
   "metadata": {},
   "outputs": [
    {
     "name": "stdout",
     "output_type": "stream",
     "text": [
      "Timlo\n",
      "Gudeg\n",
      "Tengkleng\n",
      "Rendang\n",
      "Bika Ambon\n",
      "Papeda\n",
      "Pempek\n",
      "Mi Aceh\n",
      "Kerak Telor\n",
      "Coto Makassar\n",
      "Bubur Pedas\n",
      "Rendang adalah makanan daerah\n"
     ]
    }
   ],
   "source": [
    "# Kerjakan nomor 2 di sini\n",
    "\n",
    "list=[\"Timlo\", \"Gudeg\", \"Tengkleng\", \"Rendang\", \"Bika Ambon\",\n",
    "      \"Papeda\", \"Pempek\", \"Mi Aceh\", \"Kerak Telor\", \"Coto Makassar\", \"Bubur Pedas\",\n",
    "      ]\n",
    "for makanan in list:\n",
    "    print(makanan)\n",
    "\n",
    "khas = input(\"Masukkan Nama Makanan Khas Daerah\")\n",
    "\n",
    "while khas not in list:\n",
    "    khas = input(\"Masukkan Nama Makanan Daerah\")\n",
    "while khas in list:\n",
    "    print(khas, \"adalah makanan khas daerah\")\n",
    "    break"
   ]
  },
  {
   "attachments": {},
   "cell_type": "markdown",
   "metadata": {},
   "source": [
    "3. Buatlah program untuk menghitung rata-rata 7 bilangan dimana bilangan-bilangan tersebut didapat melalui input user!"
   ]
  },
  {
   "cell_type": "code",
   "execution_count": 1,
   "metadata": {},
   "outputs": [
    {
     "name": "stdout",
     "output_type": "stream",
     "text": [
      "List bilangan : [1, 2, 3, 4, 5, 6, 7]\n",
      "Total semua bilangan adalah 28\n",
      "Nilai rata-rata bilangannya adalah 4.0\n"
     ]
    }
   ],
   "source": [
    "# Kerjakan nomor 3 di sini\n",
    "list = []\n",
    "total = 0\n",
    "for angka in range(7):\n",
    "    bilangan = int(input(\"Masukkan bilangan\"))\n",
    "    total += bilangan\n",
    "    list.append(bilangan)\n",
    "\n",
    "rata_rata = total/7\n",
    "\n",
    "print(\"List bilangan :\", list)\n",
    "print(\"Total semua bilangan adalah\", total)\n",
    "print(\"Nilai rata-rata bilangannya adalah\", rata_rata)\n"
   ]
  }
 ],
 "metadata": {
  "kernelspec": {
   "display_name": "Python 3",
   "language": "python",
   "name": "python3"
  },
  "language_info": {
   "codemirror_mode": {
    "name": "ipython",
    "version": 3
   },
   "file_extension": ".py",
   "mimetype": "text/x-python",
   "name": "python",
   "nbconvert_exporter": "python",
   "pygments_lexer": "ipython3",
   "version": "3.10.7"
  },
  "orig_nbformat": 4
 },
 "nbformat": 4,
 "nbformat_minor": 2
}
