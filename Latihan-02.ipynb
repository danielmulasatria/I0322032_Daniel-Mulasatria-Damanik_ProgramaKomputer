{
 "cells": [
  {
   "cell_type": "code",
   "execution_count": 24,
   "metadata": {},
   "outputs": [
    {
     "name": "stdout",
     "output_type": "stream",
     "text": [
      "Jadi, volume baloknya adalah  75 cm^3 dan luas permukaannya adalah 15 cm^2\n"
     ]
    }
   ],
   "source": [
    "panjang = int(input(\"Masukkan panjang balok: \"))\n",
    "lebar = int(input(\"Masukkan lebar balok: \"))\n",
    "tinggi = int(input(\"Masukkan tinggi balok:\"))\n",
    "volume = panjang*lebar*tinggi\n",
    "luaspermukaan = panjang*lebar\n",
    "\n",
    "print(f'Jadi, volume baloknya adalah ', volume, 'cm^3', \"dan luas permukaannya adalah\", luaspermukaan, 'cm^2')"
   ]
  },
  {
   "cell_type": "code",
   "execution_count": 25,
   "metadata": {},
   "outputs": [
    {
     "name": "stdout",
     "output_type": "stream",
     "text": [
      "[2, 4, 7]\n",
      "========================================\n",
      "Jarak rumah yang paling jauh adalah: 7\n",
      "Jarak rumah yang paling dekat adalah: 2\n",
      "========================================\n",
      "Nilai dari mean adalah: {4.333333333333333}\n"
     ]
    }
   ],
   "source": [
    "jarak_rumah = []\n",
    "nilai = input(\"Masukkan jarak rumahmu dan 2 temanmu ke kampus: \")\n",
    "jarak_rumah = nilai.split(\",\")\n",
    "\n",
    "angka_list = [int(nilai) for nilai in jarak_rumah]\n",
    "print(angka_list)\n",
    "\n",
    "print(\"=\"*40)\n",
    "print(f'Jarak rumah yang paling jauh adalah:', (max(angka_list)))\n",
    "print(f'Jarak rumah yang paling dekat adalah:', (min(angka_list)))\n",
    "\n",
    "print(\"=\"*40)\n",
    "mean = sum(angka_list)/len(angka_list)\n",
    "print(f'Nilai dari mean adalah:', {mean})"
   ]
  },
  {
   "cell_type": "code",
   "execution_count": 3,
   "metadata": {},
   "outputs": [
    {
     "name": "stdout",
     "output_type": "stream",
     "text": [
      "['program.c', 'studio.h', 'sample.h', 'a.out', 'math.h', 'hpp.out']\n"
     ]
    }
   ],
   "source": [
    "filenames = [\"program.c\", \"studio.hpp\", \"sample.hpp\", \"a.out\", \"math.hpp\", \"hpp.out\"]\n",
    "newfilenames = [filename.replace(\".hpp\", \".h\") if filename.endswith(\".hpp\" ) else filename for filename in filenames]\n",
    "\n",
    "print(newfilenames)"
   ]
  },
  {
   "cell_type": "code",
   "execution_count": 22,
   "metadata": {},
   "outputs": [
    {
     "name": "stdout",
     "output_type": "stream",
     "text": [
      "Hello\n",
      "World\n"
     ]
    }
   ],
   "source": [
    "string = \"Hello World\"\n",
    "print(string[0:5])\n",
    "print(string[6:11])"
   ]
  },
  {
   "cell_type": "code",
   "execution_count": 41,
   "metadata": {},
   "outputs": [
    {
     "name": "stdout",
     "output_type": "stream",
     "text": [
      "True\n"
     ]
    }
   ],
   "source": [
    "boolean1 = 15>5+6\n",
    "print(boolean1)"
   ]
  },
  {
   "cell_type": "code",
   "execution_count": 61,
   "metadata": {},
   "outputs": [
    {
     "name": "stdout",
     "output_type": "stream",
     "text": [
      "0b10000\n"
     ]
    }
   ],
   "source": [
    "# binary\n",
    "biner = bin(16)\n",
    "print(biner)"
   ]
  }
 ],
 "metadata": {
  "kernelspec": {
   "display_name": "Python 3",
   "language": "python",
   "name": "python3"
  },
  "language_info": {
   "codemirror_mode": {
    "name": "ipython",
    "version": 3
   },
   "file_extension": ".py",
   "mimetype": "text/x-python",
   "name": "python",
   "nbconvert_exporter": "python",
   "pygments_lexer": "ipython3",
   "version": "3.10.7"
  },
  "orig_nbformat": 4
 },
 "nbformat": 4,
 "nbformat_minor": 2
}
