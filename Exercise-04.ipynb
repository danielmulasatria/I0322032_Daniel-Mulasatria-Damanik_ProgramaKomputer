{
 "cells": [
  {
   "cell_type": "code",
   "execution_count": 2,
   "metadata": {},
   "outputs": [
    {
     "name": "stdout",
     "output_type": "stream",
     "text": [
      "Daniel Mulasatria Damanik\n",
      "I0322032\n",
      "A\n"
     ]
    }
   ],
   "source": [
    "print(input(\"Nama: \"))\n",
    "print(input(\"NIM: \"))\n",
    "print(input(\"Kelas: \"))"
   ]
  },
  {
   "attachments": {},
   "cell_type": "markdown",
   "metadata": {},
   "source": [
    "## 1."
   ]
  },
  {
   "attachments": {},
   "cell_type": "markdown",
   "metadata": {},
   "source": [
    "Buatlah program persyaratan pembuatan SIM dengan input yaitu nama user, umur user, dan nilai tes user.<br>\n",
    "Dengan ketentuan mendapat SIM sebagai berikut:\n",
    "* Umur dari user harus lebih dari sama dengan 17 tahun\n",
    "* Nilai tes lebih dari sama dengan 70\n",
    "\n",
    "<br>Output yang dihasilkan dari program adalah:\n",
    "<br>\"Selamat Anda Berhak Mendapatkan SIM Anda\"\n",
    "<br>\"Maaf, Anda tidak berhak mendapatkan SIM anda\"\n",
    "> *note: Kerjakan soal ini dengan percabangan*"
   ]
  },
  {
   "cell_type": "code",
   "execution_count": 10,
   "metadata": {},
   "outputs": [
    {
     "name": "stdout",
     "output_type": "stream",
     "text": [
      "Maaf, Anda tidak berhak mendapatkan SIM Anda\n"
     ]
    }
   ],
   "source": [
    "# Kerjakan soal no 1 di sini\n",
    "\n",
    "nama = input(\"Masukkan Nama Anda\")\n",
    "umur = int(input(\"Masukkan Umur Anda\"))\n",
    "nilai = int(input(\"Masukkan Nilai tes Anda\"))\n",
    "\n",
    "if umur >= 17:\n",
    "    if nilai >= 70:\n",
    "        print(\"Selamat Anda Berhak Mendapatkan SIM Anda\")\n",
    "    else:\n",
    "        print(\"Maaf, Anda tidak berhak mendapatkan SIM Anda\")\n",
    "else:\n",
    "    print(\"Maaf, Anda tidak berhak mendapatkan SIM Anda\")"
   ]
  },
  {
   "attachments": {},
   "cell_type": "markdown",
   "metadata": {},
   "source": [
    "## 2."
   ]
  },
  {
   "attachments": {},
   "cell_type": "markdown",
   "metadata": {},
   "source": [
    "Buatlah program untuk mencari bilangan terbesar yang diinput dari user.<br>\n",
    "<br>Dengan ketentuan sebagai berikut:\n",
    "* Program nenerima 3 input bilangan dari user\n",
    "* Program akan menentukan mana bilangan terbesar\n",
    "* Output yang akan dihasilkan misalnya adalah \"Dari bil_1, bil_2, dan bil_3, bilangan terbesarnya adalah bilangan bil_2\"\n",
    "> *note: Kerjakan soal ini dengan percabangan*"
   ]
  },
  {
   "cell_type": "code",
   "execution_count": 2,
   "metadata": {},
   "outputs": [
    {
     "name": "stdout",
     "output_type": "stream",
     "text": [
      "Dari 10 , 100 , dan 1000 bilangan terbesarnya adalah bilangan 1000\n"
     ]
    }
   ],
   "source": [
    "# Kerjakan soal nomor 2 disini\n",
    "\n",
    "bilangan1 = int(input(\"Masukkan Bilangan Pertama\"))\n",
    "bilangan2 = int(input(\"Masukkan Bilangan Kedua\"))\n",
    "bilangan3 = int(input(\"Masukkan Bilangan Ketiga\"))\n",
    "\n",
    "if bilangan1 > bilangan2 and bilangan1 > bilangan3:\n",
    "    print(\"Dari\", bilangan1,\",\",bilangan2, \", dan\",bilangan3, \"bilangan terbesarnya adalah bilangan\", bilangan1)\n",
    "elif bilangan3 > bilangan1 and bilangan3 > bilangan2:\n",
    "    print(\"Dari\", bilangan1,\",\",bilangan2, \", dan\",bilangan3, \"bilangan terbesarnya adalah bilangan\", bilangan3)\n",
    "else:\n",
    "    print(\"Dari\", bilangan1, \",\",bilangan2, \", dan\",bilangan3, \"bilangan terbesarnya adalah bilangan\", bilangan2)\n"
   ]
  }
 ],
 "metadata": {
  "kernelspec": {
   "display_name": "Python 3",
   "language": "python",
   "name": "python3"
  },
  "language_info": {
   "codemirror_mode": {
    "name": "ipython",
    "version": 3
   },
   "file_extension": ".py",
   "mimetype": "text/x-python",
   "name": "python",
   "nbconvert_exporter": "python",
   "pygments_lexer": "ipython3",
   "version": "3.10.7"
  },
  "orig_nbformat": 4
 },
 "nbformat": 4,
 "nbformat_minor": 2
}
